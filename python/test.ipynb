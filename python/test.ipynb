{
 "cells": [
  {
   "cell_type": "code",
   "execution_count": 1,
   "metadata": {},
   "outputs": [],
   "source": [
    "import pandas as pd\n",
    "import spacy\n",
    "from itertools import chain\n",
    "import re\n",
    "import json"
   ]
  },
  {
   "cell_type": "code",
   "execution_count": 2,
   "metadata": {
    "collapsed": true
   },
   "outputs": [],
   "source": [
    "path = \"../txt/\" "
   ]
  },
  {
   "cell_type": "code",
   "execution_count": 3,
   "metadata": {},
   "outputs": [],
   "source": [
    "lines = []\n",
    "with open(path+\"story.txt\") as f:\n",
    "    for line in f:\n",
    "        lines.append(line)\n",
    "        "
   ]
  },
  {
   "cell_type": "code",
   "execution_count": 4,
   "metadata": {},
   "outputs": [
    {
     "data": {
      "text/plain": [
       "['Chapter 1-1\\n',\n",
       " '\\n',\n",
       " \"Mario enters a new area. It's a sunny day in the Mushroom Kingdom. Mario begins walking. Mario begins running. Mario sees a Goomba in the distance. Mario begins walking. Mario begins to slow down. Mario jumps. Mario collected a coin. Mario lands on solid ground. Mario jumps. Mario added 200 points to his score. Mario stomps on a Goomba. Mario lands on solid ground. Mario begins walking. Mario jumps. Mario added 100 points to his score. Mario hits a brick with his head. Mario hits a block and a super mushroom comes out. Mario lands on solid ground. Mario jumps. Mario hits a brick with his head. Mario collected a coin. Mario lands on solid ground. Mario begins to slow down. Mario added 200 points to his score. Mario jumps. Mario lands on solid ground. Mario begins walking. Mario begins running. Mario obtained a super mushroom and grew big. Mario hits a brick with his head. Mario collected a coin. Mario lands on solid ground. Mario begins walking. Mario begins to slow down. Mario begins walking. Mario added 1200 points to his score. Mario begins running. Mario jumps. Mario sees a Goomba in the distance. Mario lands on solid ground. Mario glanced at his watch and realized that there is now 380 units of time remaining in this stage. Mario jumps. Mario lands on solid ground. Mario jumps. Mario sees a Goomba in the distance. Mario sees a Goomba in the distance. Mario lands on solid ground. Mario lands on solid ground. Mario begins walking. Mario begins running. Mario falls off an edge. Mario lands on solid ground. Mario jumps. Mario lands on solid ground. Mario falls off an edge. Mario lands on solid ground. Mario begins walking. Mario jumps. Mario hits a block and a 1-Up comes out. Mario lands on solid ground. Mario begins to slow down. Mario jumps. Mario earns an extra life. Mario lands on solid ground. Mario begins running. Mario jumps. Mario sees a Goomba in the distance. Mario sees a Goomba in the distance. Mario lands on solid ground. Mario begins walking. Mario begins to slow down. Mario glanced at his watch and realized that there is now 360 units of time remaining in this stage. Mario hits a brick with his head. Mario's bash underneath a block defeats a Goomba. Mario lands on solid ground. Mario added 150 points to his score. Mario hits a brick with his head. Mario hits a block and a fire flower comes out. Mario lands on solid ground. Mario begins walking. Mario begins to slow down. Mario lands on solid ground. Mario jumps. Mario lands on solid ground. Mario begins walking. Mario jumps. Mario obtained a fire flower and changed his overalls. Mario added 1000 points to his score. Mario lands on solid ground. Mario begins walking. Mario falls off an edge. Mario lands on solid ground. Mario begins running. Mario jumps. Mario sees a Goomba in the distance. Mario sees a Goomba in the distance. Mario shoots a fireball. Mario shoots a fireball. Mario lands on solid ground. Mario's fireball defeats a Goomba. Mario begins walking. Mario's fireball defeats a Goomba. Mario shoots a fireball. Mario begins to slow down. Mario begins walking. Mario hits a brick with his head and destroys it. Mario collected a coin. Mario glanced at his watch and realized that there is now 340 units of time remaining in this stage. Mario lands on solid ground. Mario begins to slow down. Mario added 400 points to his score. Mario collected a coin. Mario lands on solid ground. Mario begins walking. Mario jumps. Mario added 200 points to his score. Mario lands on solid ground. Mario begins running. Mario begins walking. Mario shoots a fireball. Mario's fireball defeats a Green Koopa Troopa. Mario jumps. Mario shoots a fireball. Mario lands on solid ground. Mario added 200 points to his score. Mario hits a block and a star comes out. Mario begins to slow down. Mario begins walking. Mario begins to slow down. Mario jumps. Mario obtained a star and became invincible. Mario added 1000 points to his score. Mario lands on solid ground. Mario sees a Goomba in the distance. Mario sees a Goomba in the distance. Mario begins running. Mario's star power defeats a Goomba. Mario's star power defeats a Goomba. Mario sees a Goomba in the distance. Mario sees a Goomba in the distance. Mario sees a Goomba in the distance. Mario added 200 points to his score. Mario's star power defeats a Goomba. Mario's star power defeats a Goomba. Mario's star power defeats a Goomba. Mario jumps. Mario added 300 points to his score. Mario glanced at his watch and realized that there is now 320 units of time remaining in this stage. Mario lands on solid ground. Mario jumps. Mario lands on solid ground. Mario jumps. Mario lands on solid ground. Mario jumps. Mario lands on solid ground. Mario jumps. Mario sees a Goomba in the distance. Mario sees a Goomba in the distance. Mario lands on solid ground. Mario jumps. Mario lands on solid ground. Mario jumps. Mario hits a brick with his head and destroys it. Mario's star power defeats a Goomba. Mario lands on solid ground. Mario's star power defeats a Goomba. Mario jumps. Mario added 300 points to his score. Mario lands on solid ground. Mario jumps. Mario lands on solid ground. Mario jumps. Mario hits a block and a star comes out. Mario lands on solid ground. Mario jumps. Mario slides down the flagpole. Mario begins walking. Mario falls off an edge. Mario added 5000 points to his score. Mario's star power has dissipated.  Mario lands on solid ground. Mario begins to slow down. Mario added 15200 points to his score. Mario enters the fort. \\n\",\n",
       " '\\n',\n",
       " 'Chapter 1-2 \\n',\n",
       " ' \\n',\n",
       " \"Mario enters a new area. It's a sunny day in the Mushroom Kingdom. Mario sees a Goomba in the distance. Mario sees a Goomba in the distance. Mario enters a new area. Mario finds himself underground. Mario glanced at his watch and realized that there is now 400 units of time remaining in this stage. Mario shoots a fireball. Mario lands on solid ground. Mario begins walking. Mario's fireball defeats a Goomba. Mario begins running. Mario begins walking. Mario's fireball defeats a Goomba. Mario added 100 points to his score. Mario jumps. Mario hits a brick with his head and destroys it. Mario lands on solid ground. Mario hits a block and a fire flower comes out. Mario begins to slow down. Mario jumps. Mario hits a brick with his head and destroys it. Mario collected a coin. Mario lands on solid ground. Mario begins walking. Mario added 300 points to his score. Mario hits a brick with his head and destroys it. Mario collected a coin. Mario lands on solid ground. Mario begins to slow down. Mario hits a brick with his head and destroys it. Mario collected a coin. Mario lands on solid ground. Mario added 400 points to his score. Mario begins walking. Mario hits a brick with his head and destroys it. Mario collected a coin. Mario lands on solid ground. Mario jumps. Mario sees a Goomba in the distance. Mario added 200 points to his score. Mario lands on solid ground. Mario falls off an edge. Mario begins to slow down. Mario lands on solid ground. Mario lands on solid ground. Mario lands on solid ground. Mario begins running. Mario falls off an edge. Mario lands on solid ground. Mario falls off an edge. Mario stomps on a Goomba. Mario lands on solid ground. Mario begins walking. Mario begins walking. Mario added 100 points to his score. Mario collected a coin. Mario glanced at his watch and realized that there is now 380 units of time remaining in this stage. Mario lands on solid ground. Mario begins to slow down. Mario added 200 points to his score. Mario collected a coin. Mario lands on solid ground. Mario collected a coin. Mario lands on solid ground. Mario added 400 points to his score. Mario lands on solid ground. Mario falls off an edge. Mario lands on solid ground. Mario begins running. Mario falls off an edge. Mario shoots a fireball. Mario sees a Green Koopa Troopa in the distance. Mario sees a Green Koopa Troopa in the distance. Mario lands on solid ground. Mario shoots a fireball. Mario begins walking. Mario jumps. Mario's fireball defeats a Green Koopa Troopa. Mario's fireball defeats a Green Koopa Troopa. Mario lands on solid ground. Mario begins to slow down. Mario jumps. Mario collected a coin. Mario lands on solid ground. Mario begins walking. Mario added 700 points to his score. Mario hits a brick with his head and destroys it. Mario lands on solid ground. Mario begins running. Mario jumps. Mario hits a brick with his head and destroys it. Mario lands on solid ground. Mario added 100 points to his score. Mario lands on solid ground. Mario begins walking. Mario hits a brick with his head and destroys it. Mario lands on solid ground. Mario jumps. Mario hits a brick with his head and destroys it. Mario collected a coin. Mario lands on solid ground. Mario begins walking. Mario added 300 points to his score. Mario hits a brick with his head and destroys it. Mario lands on solid ground. Mario shoots a fireball. Mario begins to slow down. Mario sees a Goomba in the distance. Mario added 50 points to his score. Mario begins walking. Mario's fireball defeats a Green Koopa Troopa. Mario begins running. Mario sees a Goomba in the distance. Mario jumps. Mario glanced at his watch and realized that there is now 360 units of time remaining in this stage. Mario's fireball defeats a Goomba. Mario lands on solid ground. Mario lands on solid ground. Mario added 400 points to his score. Mario hits a brick with his head and destroys it. Mario lands on solid ground. Mario added 50 points to his score. Mario's fireball defeats a Goomba. Mario lands on solid ground. Mario begins walking. Mario begins running. Mario falls off an edge. Mario added 100 points to his score. Mario lands on solid ground. Mario hits a brick with his head and destroys it. Mario collected a coin. Mario lands on solid ground. Mario hits a brick with his head and destroys it. Mario collected a coin. Mario lands on solid ground. Mario begins running. Mario sees a Goomba in the distance. Mario jumps. Mario hits a brick with his head and destroys it. Mario lands on solid ground. Mario begins walking. Mario added 550 points to his score. Mario begins running. Mario sees a Goomba in the distance. Mario sees a Goomba in the distance. Mario lands on solid ground. Mario begins walking. Mario begins to slow down. Mario added 50 points to his score. Mario jumps. Mario collected a coin. Mario hits a brick with his head and destroys it. Mario lands on solid ground. Mario begins to slow down. Mario added 250 points to his score. Mario shoots a fireball. Mario's fireball defeats a Goomba. Mario shoots a fireball. Mario jumps. Mario's fireball defeats a Goomba. Mario lands on solid ground. Mario shoots a fireball. Mario added 250 points to his score. Mario's fireball defeats a Goomba. Mario begins walking. Mario added 100 points to his score. Mario begins running. Mario hits a brick with his head and destroys it. Mario lands on solid ground. Mario begins walking. Mario jumps. Mario added 50 points to his score. Mario lands on solid ground. Mario begins running. Mario jumps. Mario collected a coin. Mario lands on solid ground. Mario collected a coin. Mario collected a coin. Mario hits a brick with his head and destroys it. Mario hits a brick with his head and destroys it. Mario collected a coin. Mario collected a coin. Mario lands on solid ground. Mario begins walking. Mario begins to slow down. Mario added 1100 points to his score. Mario jumps. Mario collected a coin. Mario lands on solid ground. Mario jumps. Mario added 250 points to his score. Mario hits a brick with his head and destroys it. Mario sees a Goomba in the distance. Mario sees a Goomba in the distance. Mario sees a Goomba in the distance. Mario added 50 points to his score. Mario lands on solid ground. Mario begins to slow down. Mario begins walking. Mario begins to slow down. Mario shoots a fireball. Mario's fireball defeats a Goomba. Mario's fireball defeats a Goomba. Mario shoots a fireball. Mario shoots a fireball. Mario jumps. Mario's fireball defeats a Goomba. Mario added 200 points to his score. Mario sees a Piranha Plant in the distance. Mario shoots a fireball. Mario lands on solid ground. Mario added 100 points to his score. Mario begins running. Mario sees a Piranha Plant in the distance. Mario sees a Goomba in the distance. Mario begins to slow down. Mario jumps. Mario glanced at his watch and realized that there is now 320 units of time remaining in this stage. Mario shoots a fireball. Mario's fireball defeats a Piranha Plant. Mario lands on solid ground. Mario added 200 points to his score. Mario jumps. Mario lands on solid ground. Mario begins walking. Mario falls off an edge. Mario lands on solid ground. Mario begins to slow down. Mario begins walking. Mario begins walking. Mario jumps. Mario shoots a fireball. Mario's fireball defeats a Piranha Plant. Mario lands on solid ground. Mario shoots a fireball. Mario begins to slow down. Mario jumps. Mario added 200 points to his score. Mario lands on solid ground. Mario begins walking. Mario falls off an edge. Mario lands on solid ground. Mario begins to slow down. Mario begins walking. Mario lands on solid ground. Mario begins running. Mario falls off an edge. Mario glanced at his watch and realized that there is now 300 units of time remaining in this stage. Mario sees a Goomba in the distance. Mario sees a Goomba in the distance. Mario lands on solid ground. Mario sees an elevator platform in the distance. Mario sees an elevator platform in the distance. Mario sees a Red Koopa Troopa in the distance. Mario stomps on a Goomba. Mario lands on solid ground. Mario begins walking. Mario begins to slow down. Mario added 100 points to his score. Mario begins walking. Mario lands on solid ground. Mario begins running. Mario jumps. Mario sees a vertical moving platform in the distance. Mario sees a vertical moving platform in the distance. Mario lands on solid ground. Mario jumps. Mario sees a Warp Zone in the distance. Mario lands on solid ground. Mario jumps. Mario sees a Piranha Plant in the distance. Mario lands on solid ground. Mario walks into a pipe. Mario begins to slow down. Mario sees a Piranha Plant in the distance. Mario enters a new area. It's a sunny day in the Mushroom Kingdom. Mario begins walking. Mario lands on solid ground. Mario lands on solid ground. Mario glanced at his watch and realized that there is now 280 units of time remaining in this stage. Mario lands on solid ground. Mario begins running. Mario jumps. Mario slides down the flagpole. Mario begins walking. Mario falls off an edge. Mario added 5000 points to his score. Mario lands on solid ground. Mario begins to slow down. Mario added 13750 points to his score. Mario enters the fort. \\n\",\n",
       " '\\n',\n",
       " 'Chapter 1-3 \\n',\n",
       " ' \\n',\n",
       " \"Mario enters a new area. It's a sunny day in the Mushroom Kingdom. Mario begins walking. Mario begins running. Mario jumps. Mario sees a Red Koopa Troopa in the distance. Mario lands on solid ground. Mario jumps. Mario lands on solid ground. Mario begins walking. Mario begins to slow down. Mario begins walking. Mario begins to slow down. Mario jumps. Mario lands on solid ground. Mario begins walking. Mario's fireball defeats a Red Koopa Troopa. Mario collected a coin. Mario begins running. Mario collected a coin. Mario collected a coin. Mario jumps. Mario sees a Goomba in the distance. Mario added 800 points to his score. Mario sees a Goomba in the distance. Mario begins walking. Mario jumps. Mario collected a coin. Mario lands on solid ground. Mario begins to slow down. Mario begins walking. Mario begins to slow down. Mario jumps. Mario shoots a fireball. Mario's fireball defeats a Goomba. Mario lands on solid ground. Mario shoots a fireball. Mario's fireball defeats a Goomba. Mario begins walking. Mario added 200 points to his score. Mario begins running. Mario sees a static platform in the distance. Mario falls off an edge. Mario collected a coin. Mario lands on solid ground. Mario begins walking. Mario begins to slow down. Mario lands on solid ground. Mario begins walking. Mario begins to slow down. Mario begins walking. Mario collected a coin. Mario collected a coin. Mario lands on solid ground. Mario begins running. Mario collected a coin. Mario collected a coin. Mario jumps. Mario glanced at his watch and realized that there is now 260 units of time remaining in this stage. Mario sees a Goomba in the distance. Mario added 800 points to his score. Mario lands on solid ground. Mario begins walking. Mario begins to slow down. Mario shoots a fireball. Mario's fireball defeats a Red Koopa Troopa. Mario added 200 points to his score. Mario jumps. Mario shoots a fireball. Mario lands on solid ground. Mario shoots a fireball. Mario begins walking. Mario sees a horizontal moving platform in the distance. Mario lands on solid ground. Mario begins running. Mario jumps. Mario sees a horizontal moving platform in the distance. Mario collected a coin. Mario lands on solid ground. Mario begins walking. Mario added 200 points to his score. Mario lands on solid ground. Mario glanced at his watch and realized that there is now 240 units of time remaining in this stage. Mario begins walking. Mario jumps. Mario collected a coin. Mario added 200 points to his score. Mario collected a coin. Mario lands on solid ground. Mario falls off an edge. Mario added 200 points to his score. Mario has fallen into a pit. Mario stands up, brushes off his overalls, and gets ready for another go. Mario lands on solid ground. Mario enters a new area. It's a sunny day in the Mushroom Kingdom. Mario sees a Goomba in the distance. Mario begins walking. Mario jumps. Mario lands on solid ground. Mario begins to slow down. Mario jumps. Mario lands on solid ground. Mario begins walking. Mario begins running. Mario jumps. Mario sees a horizontal moving platform in the distance. Mario lands on solid ground. Mario jumps. Mario sees a horizontal moving platform in the distance. Mario collected a coin. Mario lands on solid ground. Mario begins to slow down. Mario added 200 points to his score. Mario begins to slow down. Mario begins walking. Mario collected a coin. Mario added 200 points to his score. Mario lands on solid ground. Mario begins running. Mario jumps. Mario collected a coin. Mario sees a Red Koopa Troopa in the distance. Mario lands on solid ground. Mario begins walking. Mario added 200 points to his score. Mario begins to slow down. Mario begins walking. Mario begins to slow down. Mario glanced at his watch and realized that there is now 280 units of time remaining in this stage. Mario begins walking. Mario begins running. Mario jumps. Mario lands on solid ground. Mario stands up, brushes off his overalls, and gets ready for another go. Mario lands on solid ground. Mario enters a new area. It's a sunny day in the Mushroom Kingdom. Mario sees a Goomba in the distance. Mario lands on solid ground. Mario jumps. Mario lands on solid ground. Mario begins running. Mario jumps. Mario sees a horizontal moving platform in the distance. Mario lands on solid ground. Mario jumps. Mario sees a horizontal moving platform in the distance. Mario lands on solid ground. Mario begins walking. Mario begins to slow down. Mario begins walking. Mario collected a coin. Mario collected a coin. Mario added 400 points to his score. Mario lands on solid ground. Mario begins running. Mario jumps. Mario collected a coin. Mario sees a Red Koopa Troopa in the distance. Mario lands on solid ground. Mario added 200 points to his score. Mario jumps. Mario lands on solid ground. Mario glanced at his watch and realized that there is now 280 units of time remaining in this stage. Mario lands on solid ground. Mario jumps. Mario lands on solid ground. Mario begins to slow down. Mario collected a coin. Mario stomps on a Red Koopa Troopa. Mario kicks a Red Koopa Troopa shell. Mario collected a coin. Mario lands on solid ground. Mario stomps on a Red Koopa Troopa. Mario collected a coin. Mario begins walking. Mario begins to slow down. Mario begins walking. Mario added 1600 points to his score. Mario lands on solid ground. Mario begins running. Mario jumps. Mario sees a horizontal moving platform in the distance. Mario collected a coin. Mario collected a coin. Mario sees a Red Koopa Troopa in the distance. Mario lands on solid ground. Mario jumps. Mario lands on solid ground. Mario jumps. Mario hits a block and a super mushroom comes out. Mario lands on solid ground. Mario begins running. Mario jumps. Mario lands on solid ground. Mario falls off an edge. Mario lands on solid ground. Mario slides down the flagpole. Mario begins walking. Mario falls off an edge. Mario lands on solid ground. Mario begins to slow down. Mario falls off an edge. Mario added 400 points to his score. Mario lands on solid ground. Mario begins walking. Mario begins to slow down. Mario added 13000 points to his score. Mario enters the castle. \\n\",\n",
       " '\\n',\n",
       " 'Chapter 1-4 \\n',\n",
       " ' \\n',\n",
       " 'Mario enters a new area. Mario is inside Bowser\\'s castle. Mario falls off an edge. Mario lands on solid ground. Mario lands on solid ground. Mario begins running. Mario jumps. Mario lands on solid ground. Mario jumps. Mario lands on solid ground. Mario begins walking. Mario begins to slow down. Mario jumps. Mario lands on solid ground. Mario jumps. Mario shrugs and slinks away in defeat. Mario stands up, brushes off his overalls, and gets ready for another go. Mario lands on solid ground. Mario enters a new area. Mario is inside Bowser\\'s castle. Mario falls off an edge. Mario lands on solid ground. Mario falls off an edge. Mario lands on solid ground. Mario begins running. Mario jumps. Mario lands on solid ground. Mario jumps. Mario lands on solid ground. Mario begins to slow down. Mario jumps. Mario hits a brick with his head. Mario hits a block and a super mushroom comes out. Mario lands on solid ground. Mario jumps. Mario lands on solid ground. Mario falls off an edge. Mario lands on solid ground. Mario obtained a super mushroom and grew big. Mario falls off an edge. Mario lands on solid ground. Mario begins walking. Mario lands on solid ground. Mario begins running. Mario falls off an edge. Mario lands on solid ground. Mario jumps. Mario lands on solid ground. Mario jumps. Mario lands on solid ground. Mario jumps. Mario sees a Bowser\\'s Flame in the distance. Mario lands on solid ground. Mario jumps. Mario lands on solid ground. Mario falls off an edge. Mario lands on solid ground. Mario jumps. Mario glanced at his watch and realized that there is now 260 units of time remaining in this stage. Mario lands on solid ground. Mario jumps. Mario sees Bowser in the distance. Mario lands on solid ground. Mario sees a horizontal moving platform in the distance. Mario jumps. Mario lost his super mushroom power. Mario lands on solid ground. Mario falls off an edge. Mario lands on solid ground. Mario sees Toad in the distance. Mario begins to slow down. Toad says, \"Thank you Mario. But our princess is in another castle.\" Mario leaves the castle. \\n',\n",
       " '\\n',\n",
       " 'Chapter 2-1 \\n',\n",
       " ' \\n',\n",
       " \"Mario enters a new area. It's a sunny day in the Mushroom Kingdom. Mario begins walking. Mario begins running. Mario sees a Goomba in the distance. Mario lands on solid ground. Mario begins to slow down. Mario jumps. Mario hits a block and a super mushroom comes out. Mario lands on solid ground. Mario begins to slow down. Mario begins walking. Mario lands on solid ground. Mario falls off an edge. Mario obtained a super mushroom and grew big. Mario lands on solid ground. Mario begins to slow down. Mario sees a Green Koopa Troopa in the distance. Mario jumps. Mario added 1000 points to his score. Mario sees a Green Koopa Troopa in the distance. Mario lands on solid ground. Mario begins walking. Mario begins to slow down. Mario jumps. Mario lands on solid ground. Mario begins walking. Mario lands on solid ground. Mario begins running. Mario jumps. Mario sees a Piranha Plant in the distance. Mario sees a Goomba in the distance. Mario sees a Goomba in the distance. Mario glanced at his watch and realized that there is now 380 units of time remaining in this stage. Mario sees a Green Koopa Troopa in the distance. Mario lands on solid ground. Mario begins to slow down. Mario jumps. Mario lands on solid ground. Mario begins walking. Mario begins running. Mario jumps. Mario sees a Goomba in the distance. Mario sees a Goomba in the distance. Mario lands on solid ground. Mario sees a Green Koopa Troopa in the distance. Mario jumps. Mario sees a Goomba in the distance. Mario lands on solid ground. Mario falls off an edge. Mario lands on solid ground. Mario jumps. Mario lands on solid ground. Mario begins running. Mario jumps. Mario sees a Goomba in the distance. Mario sees a Goomba in the distance. Mario sees a Goomba in the distance. Mario lands on solid ground. Mario lands on solid ground. Mario begins to slow down. Mario hits a brick with his head. Mario hits a brick with his head. Mario lands on solid ground. Mario begins walking. Mario added 100 points to his score. Mario hits a brick with his head. Mario sees a vine  in the distance. Mario glanced at his watch and realized that there is now 360 units of time remaining in this stage. Mario hits a block and a super mushroom comes out. Mario stomps on a Goomba. Mario stomps on a Goomba. Mario lands on solid ground. Mario added 300 points to his score. Mario lands on solid ground. Mario jumps. Mario slides down the flagpole. Mario begins walking. Mario begins walking. Mario climbs a vine. Mario lands on solid ground. Mario hits a brick with his head. Mario sees a horizontal moving platform in the distance. Mario sees a vine  in the distance. Mario enters a new area. It's a sunny day in the Mushroom Kingdom. Mario slides down the flagpole. Mario begins walking. Mario begins walking. Mario falls off an edge. Mario lands on solid ground. Mario begins walking. Mario begins running. Mario jumps. Mario collected a coin. Mario collected a coin. Mario collected a coin. Mario lands on solid ground. Mario jumps. Mario collected a coin. Mario collected a coin. Mario collected a coin. Mario lands on solid ground. Mario begins to slow down. Mario jumps. Mario collected a coin. Mario collected a coin. Mario lands on solid ground. Mario begins walking. Mario jumps. Mario added 1600 points to his score. Mario collected a coin. Mario collected a coin. Mario collected a coin. Mario lands on solid ground. Mario begins walking. Mario added 600 points to his score. Mario collected a coin. Mario collected a coin. Mario collected a coin. Mario glanced at his watch and realized that there is now 340 units of time remaining in this stage. Mario lands on solid ground. Mario jumps. Mario added 600 points to his score. Mario collected a coin. Mario collected a coin. Mario lands on solid ground. Mario begins to slow down. Mario jumps. Mario added 400 points to his score. Mario collected a coin. Mario collected a coin. Mario collected a coin. Mario lands on solid ground. Mario begins walking. Mario jumps. Mario added 600 points to his score. Mario collected a coin. Mario collected a coin. Mario collected a coin. Mario lands on solid ground. Mario jumps. Mario collected a coin. Mario collected a coin. Mario collected a coin. Mario lands on solid ground. Mario begins walking. Mario jumps. Mario added 600 points to his score. Mario collected a coin. Mario collected a coin. Mario collected a coin. Mario lands on solid ground. Mario jumps. Mario collected a coin. Mario collected a coin. Mario collected a coin. Mario collected a coin. Mario lands on solid ground. Mario begins to slow down. Mario added 1400 points to his score. Mario lands on solid ground. Mario collected a coin. Mario collected a coin. Mario collected a coin. Mario lands on solid ground. Mario begins to slow down. Mario added 600 points to his score. Mario glanced at his watch and realized that there is now 320 units of time remaining in this stage. Mario begins walking. Mario lands on solid ground. Mario sees a Piranha Plant in the distance. Mario enters a new area. It's a sunny day in the Mushroom Kingdom. Mario lands on solid ground. Mario begins running. Mario begins walking. Mario jumps. Mario hits a brick with his head. Mario collected a coin. Mario lands on solid ground. Mario begins to slow down. Mario added 200 points to his score. Mario jumps. Mario lands on solid ground. Mario lands on solid ground. Mario begins walking. Mario sees a Green Koopa Troopa in the distance. Mario sees a jump spring in the distance. Mario lands on solid ground. Mario jumps. Mario glanced at his watch and realized that there is now 300 units of time remaining in this stage. Mario stomps on a Green Koopa Troopa. Mario kicks a Green Koopa Troopa shell. Mario begins walking. Mario added 600 points to his score. Mario lands on solid ground. Mario hits a block and a super mushroom comes out. Mario falls off an edge. Mario lands on solid ground. Mario begins running. Mario falls off an edge. Mario lands on solid ground. Mario begins to slow down. Mario jumps. Mario lands on solid ground. Mario begins walking. Mario begins to slow down. Mario falls off an edge. Mario lands on solid ground. Mario lands on solid ground. Mario falls off an edge. Mario hits a brick with his head. Mario collected a coin. Mario lands on solid ground. Mario falls off an edge. Mario added 200 points to his score. Mario lands on solid ground. Mario begins walking. Mario begins to slow down. Mario jumps. Mario lands on solid ground. Mario added 100 points to his score. Mario glanced at his watch and realized that there is now 280 units of time remaining in this stage. Mario lands on solid ground. Mario falls off an edge. Mario lands on solid ground. Mario lands on solid ground. Mario jumps. Mario lands on solid ground. Mario falls off an edge. Mario lands on solid ground. Mario jumps. Mario lands on solid ground. Mario begins walking. Mario begins to slow down. Mario falls off an edge. Mario lands on solid ground. Mario begins walking. Mario begins to slow down. Mario begins walking. Mario begins to slow down. Mario begins walking. Mario begins running. Mario falls off an edge. Mario glanced at his watch and realized that there is now 260 units of time remaining in this stage. Mario lands on solid ground. Mario begins to slow down. Mario jumps. Mario slides down the flagpole. Mario begins walking. Mario falls off an edge. Mario added 400 points to his score. Mario lands on solid ground. Mario begins to slow down. Mario falls off an edge. Mario lands on solid ground. Mario begins walking. Mario begins to slow down. Mario added 12850 points to his score. Mario enters the fort. \\n\",\n",
       " '\\n',\n",
       " 'Chapter 2-2 \\n',\n",
       " ' \\n',\n",
       " \"Mario enters a new area. It's a sunny day in the Mushroom Kingdom. Mario enters a new area. Mario finds himself underwater. Mario glanced at his watch and realized that there is now 400 units of time remaining in this stage. Mario begins walking. Mario sees a Blooper in the distance. Mario collected a coin. Mario begins to slow down. Mario lands on solid ground. Mario jumps. Mario added 200 points to his score. Mario begins walking. Mario collected a coin. Mario collected a coin. Mario collected a coin. Mario added 600 points to his score. Mario lands on solid ground. Mario jumps. Mario begins to slow down. Mario glanced at his watch and realized that there is now 380 units of time remaining in this stage. Mario sees a Blooper in the distance. Mario begins walking. Mario collected a coin. Mario collected a coin. Mario lands on solid ground. Mario collected a coin. Mario added 600 points to his score. Mario begins to slow down. Mario begins walking. Mario jumps. Mario begins to slow down. Mario begins walking. Mario sees a Blooper in the distance. Mario glanced at his watch and realized that there is now 360 units of time remaining in this stage. Mario sees a Grey CheepCheep in the distance. Mario sees a Red CheepCheep in the distance. Mario collected a coin. Mario begins to slow down. Mario collected a coin. Mario begins walking. Mario collected a coin. Mario begins to slow down. Mario begins walking. Mario added 600 points to his score. Mario sees a Blooper in the distance. Mario begins to slow down. Mario sees a Grey CheepCheep in the distance. Mario begins walking. Mario sees a Grey CheepCheep in the distance. Mario begins to slow down. Mario sees a Blooper in the distance. Mario begins walking. Mario sees a Red CheepCheep in the distance. Mario glanced at his watch and realized that there is now 340 units of time remaining in this stage. Mario sees a Blooper in the distance. Mario sees a Red CheepCheep in the distance. Mario collected a coin. Mario sees a Grey CheepCheep in the distance. Mario collected a coin. Mario lands on solid ground. Mario collected a coin. Mario begins to slow down. Mario sees a Grey CheepCheep in the distance. Mario added 600 points to his score. Mario begins walking. Mario jumps. Mario begins to slow down. Mario begins walking. Mario begins to slow down. Mario begins walking. Mario begins walking. Mario begins to slow down. Mario begins walking. Mario begins to slow down. Mario begins walking. Mario lands on solid ground. Mario sees a Grey CheepCheep in the distance. Mario jumps. Mario glanced at his watch and realized that there is now 320 units of time remaining in this stage. Mario begins to slow down. Mario begins walking. Mario begins to slow down. Mario begins walking. Mario collected a coin. Mario collected a coin. Mario collected a coin. Mario earns an extra life. Mario sees a Grey CheepCheep in the distance. Mario added 600 points to his score. Mario sees a Grey CheepCheep in the distance. Mario sees a Grey CheepCheep in the distance. Mario begins to slow down. Mario collected a coin. Mario begins walking. Mario collected a coin. Mario collected a coin. Mario collected a coin. Mario sees a Red CheepCheep in the distance. Mario collected a coin. Mario added 1000 points to his score. Mario sees a Grey CheepCheep in the distance. Mario glanced at his watch and realized that there is now 300 units of time remaining in this stage. Mario lands on solid ground. Mario begins to slow down. Mario jumps. Mario lands on solid ground. Mario jumps. Mario begins walking. Mario sees a Grey CheepCheep in the distance. Mario sees a Grey CheepCheep in the distance. Mario sees a Grey CheepCheep in the distance. Mario lands on solid ground. Mario jumps. Mario collected a coin. Mario begins to slow down. Mario collected a coin. Mario collected a coin. Mario begins walking. Mario collected a coin. Mario added 800 points to his score. Mario begins to slow down. Mario glanced at his watch and realized that there is now 280 units of time remaining in this stage. Mario collected a coin. Mario begins walking. Mario sees a Red CheepCheep in the distance. Mario begins to slow down. Mario added 200 points to his score. Mario begins walking. Mario begins to slow down. Mario begins walking. Mario lands on solid ground. Mario sees a Red CheepCheep in the distance. Mario jumps. Mario lands on solid ground. Mario jumps. Mario begins to slow down. Mario begins walking. Mario begins to slow down. Mario sees a Grey CheepCheep in the distance. Mario begins walking. Mario lands on solid ground. Mario sees a Grey CheepCheep in the distance. Mario jumps. Mario begins to slow down. Mario glanced at his watch and realized that there is now 260 units of time remaining in this stage. Mario begins walking. Mario lands on solid ground. Mario begins to slow down. Mario begins walking. Mario begins to slow down. Mario begins walking. Mario jumps. Mario begins to slow down. Mario lands on solid ground. Mario jumps. Mario lands on solid ground. Mario jumps. Mario lands on solid ground. Mario jumps. Mario lands on solid ground. Mario jumps. Mario lands on solid ground. Mario begins walking. Mario jumps. Mario glanced at his watch and realized that there is now 240 units of time remaining in this stage. Mario begins walking. Mario begins to slow down. Mario lands on solid ground. Mario begins walking. Mario jumps. Mario lands on solid ground. Mario begins to slow down. Mario lands on solid ground. Mario jumps. Mario begins walking. Mario lands on solid ground. Mario jumps. Mario begins to slow down. Mario begins walking. Mario begins to slow down. Mario begins walking. Mario begins to slow down. Mario begins walking. Mario glanced at his watch and realized that there is now 220 units of time remaining in this stage. Mario lands on solid ground. Mario walks into a pipe. Mario begins to slow down. Mario sees a Piranha Plant in the distance. Mario enters a new area. It's a sunny day in the Mushroom Kingdom. Mario lands on solid ground. Mario jumps. Mario lands on solid ground. Mario begins running. Mario jumps. Mario slides down the flagpole. Mario begins walking. Mario added 2000 points to his score. Mario falls off an edge. Mario lands on solid ground. Mario begins to slow down. Mario falls off an edge. Mario lands on solid ground. Mario begins walking. Mario begins to slow down. Mario added 10450 points to his score. Mario enters the fort. \\n\",\n",
       " '\\n',\n",
       " 'Chapter 2-3 \\n',\n",
       " ' \\n',\n",
       " \"Mario enters a new area. It's a sunny day in the Mushroom Kingdom. Mario begins walking. Mario begins running. Mario jumps. Mario sees a Flying CheepCheep in the distance. Mario lands on solid ground. Mario sees a Flying CheepCheep in the distance. Mario sees a Flying CheepCheep in the distance. Mario jumps. Mario collected a coin. Mario collected a coin. Mario collected a coin. Mario collected a coin. Mario lands on solid ground. Mario added 800 points to his score. Mario sees a Flying CheepCheep in the distance. Mario sees a Flying CheepCheep in the distance. Mario jumps. Mario collected a coin. Mario collected a coin. Mario collected a coin. Mario collected a coin. Mario collected a coin. Mario sees a Flying CheepCheep in the distance. Mario lands on solid ground. Mario jumps. Mario added 1000 points to his score. Mario lands on solid ground. Mario jumps. Mario sees a Flying CheepCheep in the distance. Mario collected a coin. Mario collected a coin. Mario glanced at his watch and realized that there is now 280 units of time remaining in this stage. Mario added 400 points to his score. Mario lands on solid ground. Mario jumps. Mario lands on solid ground. Mario sees a Flying CheepCheep in the distance. Mario sees a Flying CheepCheep in the distance. Mario jumps. Mario collected a coin. Mario collected a coin. Mario collected a coin. Mario lands on solid ground. Mario jumps. Mario hits a brick with his head. Mario lands on solid ground. Mario added 600 points to his score. Mario hits a block and a fire flower comes out. Mario begins walking. Mario begins to slow down. Mario jumps. Mario sees a Flying CheepCheep in the distance. Mario lands on solid ground. Mario falls off an edge. Mario begins walking. Mario obtained a fire flower and changed his overalls. Mario lands on solid ground. Mario added 1000 points to his score. Mario begins to slow down. Mario sees a Flying CheepCheep in the distance. Mario begins walking. Mario begins running. Mario sees a Flying CheepCheep in the distance. Mario begins walking. Mario begins to slow down. Mario begins walking. Mario begins to slow down. Mario shoots a fireball. Mario glanced at his watch and realized that there is now 260 units of time remaining in this stage. Mario sees a Flying CheepCheep in the distance. Mario stomps on a Flying CheepCheep. Mario falls off an edge. Mario lands on solid ground. Mario added 200 points to his score. Mario sees a Flying CheepCheep in the distance. Mario sees a Flying CheepCheep in the distance. Mario sees a Flying CheepCheep in the distance. Mario begins walking. Mario stomps on a Flying CheepCheep. Mario falls off an edge. Mario shoots a fireball. Mario lands on solid ground. Mario begins to slow down. Mario added 200 points to his score. Mario begins walking. Mario begins to slow down. Mario sees a Flying CheepCheep in the distance. Mario jumps. Mario lands on solid ground. Mario stomps on a Flying CheepCheep. Mario falls off an edge. Mario begins walking. Mario lost his fire flower power. Mario lands on solid ground. Mario begins running. Mario added 200 points to his score. Mario sees a Flying CheepCheep in the distance. Mario jumps. Mario collected a coin. Mario collected a coin. Mario collected a coin. Mario sees a Flying CheepCheep in the distance. Mario added 600 points to his score. Mario lands on solid ground. Mario jumps. Mario lands on solid ground. Mario jumps. Mario lands on solid ground. Mario glanced at his watch and realized that there is now 240 units of time remaining in this stage. Mario sees a Grey CheepCheep in the distance. Mario jumps. Mario collected a coin. Mario collected a coin. Mario collected a coin. Mario collected a coin. Mario lands on solid ground. Mario jumps. Mario added 800 points to his score. Mario sees a Flying CheepCheep in the distance. Mario lands on solid ground. Mario jumps. Mario collected a coin. Mario collected a coin. Mario collected a coin. Mario collected a coin. Mario lands on solid ground. Mario jumps. Mario added 800 points to his score. Mario sees a Flying CheepCheep in the distance. Mario lands on solid ground. Mario sees a Flying CheepCheep in the distance. Mario jumps. Mario lands on solid ground. Mario falls off an edge. Mario sees a Flying CheepCheep in the distance. Mario sees a Flying CheepCheep in the distance. Mario sees a Flying CheepCheep in the distance. Mario has fallen into a pit. Mario sees a Flying CheepCheep in the distance. Mario stands up, brushes off his overalls, and gets ready for another go. Mario lands on solid ground. Mario enters a new area. It's a sunny day in the Mushroom Kingdom. Mario begins walking. Mario begins running. Mario jumps. Mario sees a Flying CheepCheep in the distance. Mario lands on solid ground. Mario jumps. Mario lands on solid ground. Mario jumps. Mario sees a Grey CheepCheep in the distance. Mario collected a coin. Mario collected a coin. Mario collected a coin. Mario collected a coin. Mario sees a Flying CheepCheep in the distance. Mario lands on solid ground. Mario added 800 points to his score. Mario jumps. Mario lands on solid ground. Mario jumps. Mario sees a Flying CheepCheep in the distance. Mario lands on solid ground. Mario sees a Flying CheepCheep in the distance. Mario jumps. Mario lands on solid ground. Mario jumps. Mario collected a coin. Mario collected a coin. Mario collected a coin. Mario collected a coin. Mario lands on solid ground. Mario sees a Flying CheepCheep in the distance. Mario added 800 points to his score. Mario glanced at his watch and realized that there is now 280 units of time remaining in this stage. Mario lands on solid ground. Mario begins running. Mario falls off an edge. Mario lands on solid ground. Mario jumps. Mario lands on solid ground. Mario begins running. Mario jumps. Mario lands on solid ground. Mario falls off an edge. Mario lands on solid ground. Mario slides down the flagpole. Mario begins walking. Mario falls off an edge. Mario lands on solid ground. Mario begins to slow down. Mario lands on solid ground. Mario added 400 points to his score. Mario begins walking. Mario begins to slow down. Mario added 13400 points to his score. Mario enters the castle. \\n\",\n",
       " '\\n',\n",
       " 'Chapter 2-4 \\n',\n",
       " ' \\n',\n",
       " \"Mario sees a Pobodoo in the distance. Mario enters a new area. Mario is inside Bowser's castle. Mario falls off an edge. Mario lands on solid ground. Mario falls off an edge. Mario lands on solid ground. Mario begins running. Mario jumps. Mario sees a Pobodoo in the distance. Mario lands on solid ground. Mario lands on solid ground. Mario begins to slow down. Mario jumps. Mario hits a brick with his head. Mario lands on solid ground. Mario jumps. Mario falls off an edge. Mario obtained a super mushroom and grew big. Mario lands on solid ground. Mario added 1000 points to his score. Mario lands on solid ground. Mario glanced at his watch and realized that there is now 280 units of time remaining in this stage. Mario begins walking. Mario lands on solid ground. Mario falls off an edge. Mario lands on solid ground. Mario jumps. Mario lands on solid ground. Mario begins walking. Mario begins running. Mario begins walking. Mario jumps. Mario begins to slow down. Mario lands on solid ground. Mario begins walking. Mario begins running. Mario lost his super mushroom power. Mario jumps. Mario lands on solid ground. Mario jumps. Mario sees an elevator platform in the distance. Mario shrugs and slinks away in defeat. Mario lands on solid ground. \\n\"]"
      ]
     },
     "execution_count": 4,
     "metadata": {},
     "output_type": "execute_result"
    }
   ],
   "source": [
    "lines"
   ]
  },
  {
   "cell_type": "code",
   "execution_count": 5,
   "metadata": {},
   "outputs": [],
   "source": [
    "#(str -> list of str )\n",
    "def split(line: str -> str)= line.split(\".\")\n",
    "        \n",
    "#(str -> str)\n",
    "def strip(line: str -> str)= line.strip()\n",
    "\n",
    "plines = lines |> fmap$(split) |> chain.from_iterable |> list |> fmap$(strip)"
   ]
  },
  {
   "cell_type": "code",
   "execution_count": 19,
   "metadata": {},
   "outputs": [
    {
     "name": "stdout",
     "output_type": "stream",
     "text": [
      "hello,\n",
      "world!\n"
     ]
    },
    {
     "data": {
      "text/plain": [
       "deque([])"
      ]
     },
     "execution_count": 19,
     "metadata": {},
     "output_type": "execute_result"
    }
   ],
   "source": [
    "(| print(\"hello,\"), print(\"world!\") |) |> consume"
   ]
  },
  {
   "cell_type": "code",
   "execution_count": 6,
   "metadata": {},
   "outputs": [
    {
     "name": "stdout",
     "output_type": "stream",
     "text": [
      "['Chapter 1-1', '', 'Mario enters a new area', \"It's a sunny day in the Mushroom Kingdom\", 'Mario begins walking', 'Mario begins running', 'Mario sees a Goomba in the distance', 'Mario begins walking', 'Mario begins to slow down', 'Mario jumps', 'Mario collected a coin', 'Mario lands on solid ground', 'Mario jumps', 'Mario added 200 points to his score', 'Mario stomps on a Goomba', 'Mario lands on solid ground', 'Mario begins walking', 'Mario jumps', 'Mario added 100 points to his score', 'Mario hits a brick with his head', 'Mario hits a block and a super mushroom comes out', 'Mario lands on solid ground', 'Mario jumps', 'Mario hits a brick with his head', 'Mario collected a coin', 'Mario lands on solid ground', 'Mario begins to slow down', 'Mario added 200 points to his score', 'Mario jumps', 'Mario lands on solid ground', 'Mario begins walking', 'Mario begins running', 'Mario obtained a super mushroom and grew big', 'Mario hits a brick with his head', 'Mario collected a coin', 'Mario lands on solid ground', 'Mario begins walking', 'Mario begins to slow down', 'Mario begins walking', 'Mario added 1200 points to his score', 'Mario begins running', 'Mario jumps', 'Mario sees a Goomba in the distance', 'Mario lands on solid ground', 'Mario glanced at his watch and realized that there is now 380 units of time remaining in this stage', 'Mario jumps', 'Mario lands on solid ground', 'Mario jumps', 'Mario sees a Goomba in the distance', 'Mario sees a Goomba in the distance', 'Mario lands on solid ground', 'Mario lands on solid ground', 'Mario begins walking', 'Mario begins running', 'Mario falls off an edge', 'Mario lands on solid ground', 'Mario jumps', 'Mario lands on solid ground', 'Mario falls off an edge', 'Mario lands on solid ground', 'Mario begins walking', 'Mario jumps', 'Mario hits a block and a 1-Up comes out', 'Mario lands on solid ground', 'Mario begins to slow down', 'Mario jumps', 'Mario earns an extra life', 'Mario lands on solid ground', 'Mario begins running', 'Mario jumps', 'Mario sees a Goomba in the distance', 'Mario sees a Goomba in the distance', 'Mario lands on solid ground', 'Mario begins walking', 'Mario begins to slow down', 'Mario glanced at his watch and realized that there is now 360 units of time remaining in this stage', 'Mario hits a brick with his head', \"Mario's bash underneath a block defeats a Goomba\", 'Mario lands on solid ground', 'Mario added 150 points to his score', 'Mario hits a brick with his head', 'Mario hits a block and a fire flower comes out', 'Mario lands on solid ground', 'Mario begins walking', 'Mario begins to slow down', 'Mario lands on solid ground', 'Mario jumps', 'Mario lands on solid ground', 'Mario begins walking', 'Mario jumps', 'Mario obtained a fire flower and changed his overalls', 'Mario added 1000 points to his score', 'Mario lands on solid ground', 'Mario begins walking', 'Mario falls off an edge', 'Mario lands on solid ground', 'Mario begins running', 'Mario jumps', 'Mario sees a Goomba in the distance', 'Mario sees a Goomba in the distance']\n"
     ]
    }
   ],
   "source": [
    "plines[0:100] |> print"
   ]
  },
  {
   "cell_type": "code",
   "execution_count": 7,
   "metadata": {},
   "outputs": [],
   "source": [
    "nlp = \"en_core_web_lg\" |> spacy.load"
   ]
  },
  {
   "cell_type": "code",
   "execution_count": 8,
   "metadata": {
    "collapsed": true
   },
   "outputs": [],
   "source": [
    "#(str -> str)\n",
    "def preload_file(corpus)= open(corpus).read()"
   ]
  },
  {
   "cell_type": "code",
   "execution_count": 9,
   "metadata": {},
   "outputs": [],
   "source": [
    "color_data = (\"../json/colors.json\") |> preload_file |> json.loads"
   ]
  },
  {
   "cell_type": "code",
   "execution_count": 12,
   "metadata": {},
   "outputs": [],
   "source": [
    "color_data.values() |> list \n",
    "colors = [] |> dict"
   ]
  },
  {
   "cell_type": "code",
   "execution_count": 13,
   "metadata": {},
   "outputs": [],
   "source": [
    "#(str -> int -> int -> int)\n",
    "def hex_to_int(s: -> str):\n",
    "    s = \"#\" |> s.lstrip\n",
    "    return (s[:2], 16) |*> int, (s[2:4], 16) |*> int, (s[4:6], 16) |*> int\n",
    "\n",
    "for item in color_data['colors']:\n",
    "    colors[item[\"color\"]] = hex_to_int(item[\"hex\"])"
   ]
  },
  {
   "cell_type": "code",
   "execution_count": 14,
   "metadata": {},
   "outputs": [],
   "source": [
    "from annoy import AnnoyIndex\n",
    "\n",
    "a = 3 |> AnnoyIndex"
   ]
  },
  {
   "cell_type": "code",
   "execution_count": 15,
   "metadata": {},
   "outputs": [
    {
     "data": {
      "text/plain": [
       "annoy.AnnoyIndex"
      ]
     },
     "execution_count": 15,
     "metadata": {},
     "output_type": "execute_result"
    }
   ],
   "source": [
    "a |> type"
   ]
  },
  {
   "cell_type": "code",
   "execution_count": 16,
   "metadata": {
    "collapsed": true
   },
   "outputs": [],
   "source": [
    "#(int -> list -> annoy.AnnoyIndex -> )\n",
    "def add_item(index is int, vector is list, a is annoy.AnnoyIndex)=\n",
    "    a.add_item(index, vector)"
   ]
  },
  {
   "cell_type": "code",
   "execution_count": 240,
   "metadata": {},
   "outputs": [
    {
     "name": "stdout",
     "output_type": "stream",
     "text": [
      "2\n"
     ]
    }
   ],
   "source": [
    "(%)$ <| 5 <| 3 |> print"
   ]
  },
  {
   "cell_type": "code",
   "execution_count": 213,
   "metadata": {},
   "outputs": [],
   "source": [
    "doc = (path +\"robinson.txt\") |> preload_into_nlp |> nlp"
   ]
  },
  {
   "cell_type": "code",
   "execution_count": 215,
   "metadata": {},
   "outputs": [
    {
     "data": {
      "text/plain": [
       "spacy.tokens.doc.Doc"
      ]
     },
     "execution_count": 215,
     "metadata": {},
     "output_type": "execute_result"
    }
   ],
   "source": [
    "doc |> type"
   ]
  },
  {
   "cell_type": "code",
   "execution_count": null,
   "metadata": {
    "collapsed": true
   },
   "outputs": [],
   "source": []
  }
 ],
 "metadata": {
  "kernelspec": {
   "display_name": "Coconut (Python 3)",
   "language": "coconut",
   "name": "coconut3"
  },
  "language_info": {
   "codemirror_mode": {
    "name": "python",
    "version": 3.6
   },
   "file_extension": ".coco",
   "mimetype": "text/x-python3",
   "name": "coconut",
   "pygments_lexer": "coconut"
  }
 },
 "nbformat": 4,
 "nbformat_minor": 2
}
